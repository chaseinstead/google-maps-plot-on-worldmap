{
 "cells": [
  {
   "cell_type": "markdown",
   "metadata": {},
   "source": [
    "## side project: replace collected altitude data with data from openelevation API\n",
    "reason: the collected altitude data is not very accurate\n",
    "\n",
    "to consider:\n",
    "- dump data into json file once 1000 entries have been crawled, so it is reasonably fast\n",
    "- 45 entries can be requested from open-elevation at once\n",
    "- openelevation api is very slow, esp. in the evening"
   ]
  },
  {
   "cell_type": "code",
   "execution_count": 4,
   "metadata": {},
   "outputs": [],
   "source": [
    "import json\n",
    "\n",
    "def prepare_location_history(json_file): # taken from main\n",
    "    '''takes google location history and formats it so its data points can be evaluated'''\n",
    "    # open and read json file into info:\n",
    "    with open(json_file) as f:\n",
    "        info = f.read()\n",
    "    info = json.loads(info)\n",
    "    info = info[\"locations\"] \n",
    "    info = info[0::10] # NEEDS TO BE REMOVED ONCE COMPLETED. ONLY FOR QUICKNESS WHILE WORKING ON IT\n",
    "    return info"
   ]
  },
  {
   "cell_type": "code",
   "execution_count": 5,
   "metadata": {},
   "outputs": [],
   "source": [
    "info = prepare_location_history(\"standortverlauf_m_iran.json\")\n",
    "\n",
    "with open(\"altitudes.json\", mode='w', encoding='utf-8') as f: # initialize empty list in json file\n",
    "    json.dump([], f)"
   ]
  },
  {
   "cell_type": "markdown",
   "metadata": {},
   "source": [
    "## find extreme altitudes"
   ]
  },
  {
   "cell_type": "code",
   "execution_count": 9,
   "metadata": {},
   "outputs": [],
   "source": [
    "from geopy.geocoders import Nominatim\n",
    "import requests\n",
    "\n",
    "# lowest point that can potentially be reached (caspian depression, kazakhstan)\n",
    "min_alt = -138\n",
    "\n",
    "def find_extreme_altitudes(info):\n",
    "    '''creates list with extreme altitude points from info'''\n",
    "    newalts = []\n",
    "    for entry in info:\n",
    "        if \"altitude\" in entry:\n",
    "            if entry[\"altitude\"] <= min_alt:\n",
    "                newalts.append(0)\n",
    "            else:\n",
    "                newalts.append(entry[\"altitude\"])\n",
    "        else:\n",
    "            newalts.append(0)\n",
    "    newalts.sort()\n",
    "    return newalts[:10], newalts[len(newalts) - 10:] # returns one list with two lists in it - mins and maxs\n",
    "\n",
    "minsmaxs = find_extreme_altitudes(info)\n",
    "mins = minsmaxs[0]\n",
    "maxs = minsmaxs[1]"
   ]
  },
  {
   "cell_type": "code",
   "execution_count": 10,
   "metadata": {},
   "outputs": [],
   "source": [
    "def find_coordinates_by_altitude(altitude):\n",
    "    '''finds all entries in dict that match a given altitude'''\n",
    "    coordinates_that_match_altitude = [item for item in info if \"altitude\" in item if item[\"altitude\"] == altitude]\n",
    "    return coordinates_that_match_altitude\n",
    "\n",
    "minpoint = find_coordinates_by_altitude(mins[0])[0]\n",
    "maxpoint = find_coordinates_by_altitude(maxs[-1])[0]"
   ]
  },
  {
   "cell_type": "code",
   "execution_count": 11,
   "metadata": {},
   "outputs": [],
   "source": [
    "def localize_dict_entry(entry):\n",
    "    '''returns address of a dict entry in google maps location json file'''\n",
    "    geolocator = Nominatim(user_agent=\"find_place\")\n",
    "    geocoordinates = entry[\"latitudeE7\"] / 10**7, entry[\"longitudeE7\"] / 10**7\n",
    "    location = geolocator.reverse(geocoordinates)\n",
    "    return location.address\n",
    "\n",
    "lowest_point_address = localize_dict_entry(minpoint)\n",
    "highest_point_address = localize_dict_entry(maxpoint)"
   ]
  },
  {
   "cell_type": "code",
   "execution_count": 12,
   "metadata": {},
   "outputs": [
    {
     "name": "stdout",
     "output_type": "stream",
     "text": [
      "The highest point volvo reached so far is Erzurum-Bingöl yolu, Kızılca, Aşağıçatköy, Çat, Erzurum, Doğu Anadolu Bölgesi, Türkiye at 2203 meters.\n",
      "The lowest point volvo reached so far is گمرک مرزی آستارا, AH8, ویرمونی, بخش مرکزی, شهرستان آستارا, استان گیلان, ‏ایران‎ at -128 meters.\n"
     ]
    }
   ],
   "source": [
    "def print_max_and_min(lowest_point_address, highest_point_address):\n",
    "    print(\"The highest point volvo reached so far is %s at %s meters.\" %(highest_point_address, maxpoint[\"altitude\"]))\n",
    "    print(\"The lowest point volvo reached so far is %s at %s meters.\" %(lowest_point_address, minpoint[\"altitude\"]))\n",
    "\n",
    "print_max_and_min(lowest_point_address, highest_point_address)"
   ]
  },
  {
   "cell_type": "markdown",
   "metadata": {},
   "source": [
    "the lowest point is unrealistic; it's an outlier."
   ]
  },
  {
   "cell_type": "markdown",
   "metadata": {},
   "source": [
    "# CHECK ACCURACY OF ALTITUDES END EDIT THEM IN JSON FILE\n"
   ]
  },
  {
   "cell_type": "code",
   "execution_count": 13,
   "metadata": {},
   "outputs": [],
   "source": [
    "def get_altitude_from_open_elevation(latitude, longitude):\n",
    "    '''returns open elevation altitude as dict so it can be compared with google maps altitude\n",
    "    after that, dict is ready for being tested against measured value'''\n",
    "    a = requests.get(\"https://api.open-elevation.com/api/v1/lookup?locations={0},{1}\".format(latitude / 10**7, longitude / 10**7))\n",
    "    a = a.text\n",
    "    a = json.loads(a)\n",
    "    return a[\"results\"][0]\n",
    "\n",
    "#adjust functions so 40 points can be searched???\n",
    "def get_40_altitudes_from_open_elevation(latitude, longitude):\n",
    "    '''returns open elevation altitude as dict so it can be compared with google maps altitude\n",
    "    after that, dict is ready for being tested against measured value'''\n",
    "    a = requests.get(\"https://api.open-elevation.com/api/v1/lookup?locations={0},{1}\".format(latitude / 10**7, longitude / 10**7))\n",
    "    a = a.text\n",
    "    a = json.loads(a)\n",
    "    return a[\"results\"][0]"
   ]
  },
  {
   "cell_type": "code",
   "execution_count": 14,
   "metadata": {},
   "outputs": [
    {
     "name": "stdout",
     "output_type": "stream",
     "text": [
      "{'latitude': 39.6656749, 'elevation': 2160, 'longitude': 41.0132522}\n"
     ]
    }
   ],
   "source": [
    "a = get_altitude_from_open_elevation(maxpoint[\"latitudeE7\"], maxpoint[\"longitudeE7\"])\n",
    "print(a)"
   ]
  },
  {
   "cell_type": "code",
   "execution_count": 24,
   "metadata": {},
   "outputs": [],
   "source": [
    "def is_true_value(point):\n",
    "    '''finally: tests whether a google altitude is accurate (by 5 meters).'''\n",
    "    a = get_altitude_from_open_elevation(point[\"latitudeE7\"], point[\"longitudeE7\"])\n",
    "    \n",
    "    #b = prepare_json_file_for_outlier_test(a) #dict is ready for being tested against measured value\n",
    "    c = abs(point[\"altitude\"] - a[\"elevation\"])\n",
    "    \n",
    "    if c <= 5:\n",
    "        return True\n",
    "    else:\n",
    "        print(\"Altitude was wrong by {} meters. Google maps data needs to be corrected.\".format(c)) #goal: automatically correct data"
   ]
  },
  {
   "cell_type": "code",
   "execution_count": 22,
   "metadata": {},
   "outputs": [
    {
     "name": "stdout",
     "output_type": "stream",
     "text": [
      "Altitude was wrong by 43 meters. Google maps data needs to be corrected.\n"
     ]
    }
   ],
   "source": [
    "bb = is_true_value(maxpoint)"
   ]
  },
  {
   "cell_type": "markdown",
   "metadata": {},
   "source": [
    "# REPLACE ALTITUDE VALUES IN JSON FILE (work in progress)"
   ]
  },
  {
   "cell_type": "code",
   "execution_count": 23,
   "metadata": {},
   "outputs": [],
   "source": [
    "def change_altitude(maxpoint, b, info):\n",
    "    for i, e in enumerate(info): # searches dict in list of dicts (by timestamp, because it is the unique value) and replaces altitude \n",
    "        if e[\"timestampMs\"] == maxpoint[\"timestampMs\"]:\n",
    "            e[\"altitude\"] = b[\"elevation\"]\n",
    "            print(i, e)\n",
    "            info[i] = e\n",
    "    \n",
    "# put it in separate function so many values can be replaced before writing to file.\n",
    "def write_altitude_changes_to_file(info):\n",
    "    with open(\"testdata_map.json\", mode='w', encoding='utf-8') as feedsjson:\n",
    "        json.dump(info, feedsjson)"
   ]
  },
  {
   "cell_type": "code",
   "execution_count": null,
   "metadata": {},
   "outputs": [],
   "source": []
  },
  {
   "cell_type": "code",
   "execution_count": null,
   "metadata": {},
   "outputs": [],
   "source": []
  },
  {
   "cell_type": "code",
   "execution_count": null,
   "metadata": {},
   "outputs": [],
   "source": []
  }
 ],
 "metadata": {
  "kernelspec": {
   "display_name": "Python 3",
   "language": "python",
   "name": "python3"
  },
  "language_info": {
   "codemirror_mode": {
    "name": "ipython",
    "version": 3
   },
   "file_extension": ".py",
   "mimetype": "text/x-python",
   "name": "python",
   "nbconvert_exporter": "python",
   "pygments_lexer": "ipython3",
   "version": "3.6.5"
  }
 },
 "nbformat": 4,
 "nbformat_minor": 2
}
